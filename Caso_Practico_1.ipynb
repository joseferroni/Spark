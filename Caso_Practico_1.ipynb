{
 "cells": [
  {
   "cell_type": "code",
   "execution_count": 0,
   "metadata": {
    "application/vnd.databricks.v1+cell": {
     "cellMetadata": {
      "byteLimit": 2048000,
      "rowLimit": 10000
     },
     "inputWidgets": {},
     "nuid": "0374510e-b8fd-4c0b-92f1-d05708170d3e",
     "showTitle": false,
     "tableResultSettingsMap": {},
     "title": ""
    }
   },
   "outputs": [],
   "source": [
    "## Laboratorio donde se realizan practicas de limpiezas de datos y consultas Basicas de datos en Pyspark"
   ]
  },
  {
   "cell_type": "code",
   "execution_count": 0,
   "metadata": {
    "application/vnd.databricks.v1+cell": {
     "cellMetadata": {
      "byteLimit": 2048000,
      "rowLimit": 10000
     },
     "inputWidgets": {},
     "nuid": "f88c87bb-2f1b-41a6-97b5-f05710a0b9f4",
     "showTitle": false,
     "tableResultSettingsMap": {},
     "title": ""
    }
   },
   "outputs": [],
   "source": [
    "sc=spark.sparkContext\n",
    "import re\n",
    "from pyspark.sql.types import IntegerType,DoubleType\n",
    "from pyspark.sql.functions import regexp_replace,col, avg, min, max, count,desc,sum,asc,row_number,when\n",
    "from pyspark.sql import Window"
   ]
  },
  {
   "cell_type": "code",
   "execution_count": 0,
   "metadata": {
    "application/vnd.databricks.v1+cell": {
     "cellMetadata": {
      "byteLimit": 2048000,
      "rowLimit": 10000
     },
     "inputWidgets": {},
     "nuid": "e5b756e5-abe3-465a-acb5-3d677c97cf87",
     "showTitle": false,
     "tableResultSettingsMap": {},
     "title": ""
    }
   },
   "outputs": [],
   "source": [
    "price_2022=spark.read.option('header','true').option('inferschema','true').csv('/FileStore/tables/prices_2022.csv')\n",
    "avg_speed=spark.read.option('header','true').option('inferschema','true').csv('/FileStore/tables/avg_speed.csv')\n",
    "users=spark.read.option('header','true').option('inferschema','true').csv('/FileStore/tables/users.csv')"
   ]
  },
  {
   "cell_type": "code",
   "execution_count": 0,
   "metadata": {
    "application/vnd.databricks.v1+cell": {
     "cellMetadata": {
      "byteLimit": 2048000,
      "rowLimit": 10000
     },
     "inputWidgets": {},
     "nuid": "2e150065-c73c-4700-9954-bdbe72ec245f",
     "showTitle": false,
     "tableResultSettingsMap": {},
     "title": ""
    }
   },
   "outputs": [
    {
     "output_type": "stream",
     "name": "stdout",
     "output_type": "stream",
     "text": [
      "+---------------+------------------+--------+--------------+-------------+\n|Country or area|         Subregion|  Region|Internet users|   Population|\n+---------------+------------------+--------+--------------+-------------+\n|          China|      Eastern Asia|    Asia| 1,010,740,000|1,427,647,786|\n|          India|     Southern Asia|    Asia|   833,710,000|1,352,642,280|\n|  United States|  Northern America|Americas|   312,320,000|  327,096,265|\n|      Indonesia|South-eastern Asia|    Asia|   196,000,000|  267,670,543|\n|         Brazil|     South America|Americas|   160,010,801|  209,469,323|\n|        Nigeria|    Western Africa|  Africa|   136,203,231|  195,874,685|\n|     Bangladesh|     Southern Asia|    Asia|   129,180,000|  166,303,498|\n|         Russia|    Eastern Europe|  Europe|   124,000,000|  145,734,038|\n|       Pakistan|     Southern Asia|    Asia|   118,800,000|  213,756,286|\n|          Japan|      Eastern Asia|    Asia|   117,400,000|  127,202,192|\n|         Mexico|  Northern America|Americas|    92,010,000|  128,972,439|\n|           Iran|      Western Asia|    Asia|    78,086,663|   81,800,188|\n|        Germany|    Western Europe|  Europe|    77,794,405|   83,124,418|\n|    Philippines|South-eastern Asia|    Asia|    73,003,313|  106,651,394|\n|         Turkey|   Southern Europe|  Europe|    69,945,905|   82,340,088|\n|        Vietnam|South-eastern Asia|    Asia|    68,172,134|   95,545,962|\n| United Kingdom|   Northern Europe|  Europe|    65,001,016|   67,141,684|\n|         France|    Western Europe|  Europe|    59,470,000|   64,990,511|\n|          Egypt|   Northern Africa|  Africa|    54,740,141|   98,423,598|\n|    South Korea|      Eastern Asia|    Asia|    49,421,084|   51,171,706|\n+---------------+------------------+--------+--------------+-------------+\nonly showing top 20 rows\n\n"
     ]
    }
   ],
   "source": [
    "users.show()"
   ]
  },
  {
   "cell_type": "code",
   "execution_count": 0,
   "metadata": {
    "application/vnd.databricks.v1+cell": {
     "cellMetadata": {
      "byteLimit": 2048000,
      "rowLimit": 10000
     },
     "inputWidgets": {},
     "nuid": "660b63c3-9bc9-4c8e-824a-9c2a28d7c2b9",
     "showTitle": false,
     "tableResultSettingsMap": {},
     "title": ""
    }
   },
   "outputs": [],
   "source": [
    "for col in price_2022.columns:\n",
    "  price_2022=price_2022.withColumnRenamed(col,re.sub(r'[.\\-\\$\\()–]', '',col.lower().strip().replace(\" \", \"_\").replace(\"__\", \"_\")))## el re.sub(r'caracacteres a seleccionar,caracterque remplaza,dato al cual aplica la transformacion. en este caso al col,lower.strip.replace)\n"
   ]
  },
  {
   "cell_type": "code",
   "execution_count": 0,
   "metadata": {
    "application/vnd.databricks.v1+cell": {
     "cellMetadata": {
      "byteLimit": 2048000,
      "rowLimit": 10000
     },
     "inputWidgets": {},
     "nuid": "28079155-c38e-47b3-8aad-d3c070b39a32",
     "showTitle": false,
     "tableResultSettingsMap": {},
     "title": ""
    }
   },
   "outputs": [],
   "source": [
    "for col in avg_speed.columns:\n",
    "  avg_speed=avg_speed.withColumnRenamed(col, col.lower().strip().replace(\" \", \"_\"))\n"
   ]
  },
  {
   "cell_type": "code",
   "execution_count": 0,
   "metadata": {
    "application/vnd.databricks.v1+cell": {
     "cellMetadata": {
      "byteLimit": 2048000,
      "rowLimit": 10000
     },
     "inputWidgets": {},
     "nuid": "762d8d58-60b5-4b08-86d1-54582fe8245d",
     "showTitle": false,
     "tableResultSettingsMap": {},
     "title": ""
    }
   },
   "outputs": [],
   "source": [
    "for col in users.columns:\n",
    "  users=users.withColumnRenamed(col, col.lower().strip().replace(\" \", \"_\"))"
   ]
  },
  {
   "cell_type": "code",
   "execution_count": 0,
   "metadata": {
    "application/vnd.databricks.v1+cell": {
     "cellMetadata": {
      "byteLimit": 2048000,
      "rowLimit": 10000
     },
     "inputWidgets": {},
     "nuid": "4364d6fe-98ed-47f9-8157-287b036119f6",
     "showTitle": false,
     "tableResultSettingsMap": {},
     "title": ""
    }
   },
   "outputs": [],
   "source": [
    "from pyspark.sql.functions import regexp_replace,col\n",
    "users = users.withColumn(\"internet_users\",regexp_replace(col(\"internet_users\"), \",\", \"\").cast(IntegerType()))\n",
    "users = users.withColumn(\"population\",regexp_replace(col(\"population\"), \",\", \"\").cast(IntegerType()))\n",
    "#users=users.withColumn(\"internet_users\", users[\"internet_users\"].cast(IntegerType()))"
   ]
  },
  {
   "cell_type": "code",
   "execution_count": 0,
   "metadata": {
    "application/vnd.databricks.v1+cell": {
     "cellMetadata": {
      "byteLimit": 2048000,
      "rowLimit": 10000
     },
     "inputWidgets": {},
     "nuid": "a9660045-81d1-49ab-b71d-b154980fa0c6",
     "showTitle": false,
     "tableResultSettingsMap": {},
     "title": ""
    }
   },
   "outputs": [
    {
     "output_type": "stream",
     "name": "stdout",
     "output_type": "stream",
     "text": [
      "+------------+------------------+--------------------+--------------------+------------------------+----------------------------+----------------------+---------------------------------------------+------------------------------------------+\n|country_code|              name|  continental_region|no_of_internet_plans|average_price_of_1gb_usd|cheapest_1gb_for_30_days_usd|most_expensive_1gb_usd|average_price_of_1gb_usd_at_the_start_of_2021|average_price_of_1gb_usd__at_start_of_2020|\n+------------+------------------+--------------------+--------------------+------------------------+----------------------------+----------------------+---------------------------------------------+------------------------------------------+\n|          IL|            Israel|           NEAR EAST|                  27|                   $0.05|                       $0.02|                $20.95|                                        $0.11|                                     $0.90|\n|          KG|        Kyrgyzstan|   CIS (FORMER USSR)|                  20|                   $0.15|                       $0.10|                 $7.08|                                        $0.21|                                     $0.27|\n|          FJ|              Fiji|             OCEANIA|                  18|                   $0.19|                       $0.05|                 $0.85|                                        $0.59|                                     $3.57|\n|          IT|             Italy|      WESTERN EUROPE|                  29|                   $0.27|                       $0.09|                 $3.54|                                        $0.43|                                     $1.73|\n|          SD|             Sudan|  SUB-SAHARAN AFRICA|                  33|                   $0.27|                       $0.03|                 $0.92|                                        $0.63|                                     $0.68|\n|          RU|Russian Federation|   CIS (FORMER USSR)|                  22|                   $0.29|                       $0.13|                 $1.86|                                        $0.52|                                     $0.91|\n|          MD|           Moldova|      EASTERN EUROPE|                  18|                   $0.32|                       $0.07|                 $2.79|                                        $1.12|                                     $2.82|\n|          BD|        Bangladesh|ASIA (EX. NEAR EAST)|                  60|                   $0.34|                       $0.11|                 $2.22|                                        $0.70|                                     $0.99|\n|          LK|         Sri Lanka|ASIA (EX. NEAR EAST)|                  60|                   $0.38|                       $0.00|                 $5.53|                                        $0.51|                                     $0.78|\n|          CL|             Chile|       SOUTH AMERICA|                  59|                   $0.39|                       $0.24|                 $1.83|                                        $0.71|                                     $1.87|\n|          FR|            France|      WESTERN EUROPE|                  45|                   $0.41|                       $0.09|               $118.20|                                        $0.81|                                     $1.21|\n|          ID|         Indonesia|ASIA (EX. NEAR EAST)|                  53|                   $0.42|                       $0.17|                 $2.94|                                        $0.64|                                     $2.99|\n|          BY|           Belarus|   CIS (FORMER USSR)|                  14|                   $0.43|                       $0.02|                $16.62|                                        $0.89|                                     $2.36|\n|          SM|        San Marino|      WESTERN EUROPE|                   2|                   $0.43|                       $0.24|                 $0.63|                                        $1.16|                                     $6.86|\n|          VN|           Vietnam|ASIA (EX. NEAR EAST)|                  46|                   $0.49|                       $0.07|                 $5.55|                                        $0.57|                                     $1.31|\n|          DZ|           Algeria|     NORTHERN AFRICA|                  20|                   $0.51|                       $0.16|                 $2.24|                                        $0.65|                                     $5.15|\n|          CN|             China|ASIA (EX. NEAR EAST)|                  36|                   $0.52|                       $0.30|                 $1.21|                                        $0.61|                                     $9.89|\n|          WS|             Samoa|             OCEANIA|                  42|                   $0.56|                       $0.19|                 $6.86|                                       $10.86|                                    $30.09|\n|          PK|          Pakistan|ASIA (EX. NEAR EAST)|                  60|                   $0.59|                       $0.06|                 $8.59|                                        $0.69|                                     $1.85|\n|          KZ|        Kazakhstan|   CIS (FORMER USSR)|                  19|                   $0.59|                       $0.25|                 $2.35|                                        $0.46|                                     $0.49|\n+------------+------------------+--------------------+--------------------+------------------------+----------------------------+----------------------+---------------------------------------------+------------------------------------------+\nonly showing top 20 rows\n\n"
     ]
    }
   ],
   "source": [
    "price_2022.show()"
   ]
  },
  {
   "cell_type": "code",
   "execution_count": 0,
   "metadata": {
    "application/vnd.databricks.v1+cell": {
     "cellMetadata": {
      "byteLimit": 2048000,
      "rowLimit": 10000
     },
     "inputWidgets": {},
     "nuid": "d385e94a-73f0-4039-b29d-25bfb4bc1b0b",
     "showTitle": false,
     "tableResultSettingsMap": {},
     "title": ""
    }
   },
   "outputs": [
    {
     "output_type": "stream",
     "name": "stdout",
     "output_type": "stream",
     "text": [
      "+--------------------+------+\n|             country|   avg|\n+--------------------+------+\n|      (Mbit/s)Ookla\"|  null|\n|              Canada| 75.18|\n|         South Korea|117.95|\n|         Netherlands|108.33|\n|               Japan| 44.05|\n|              Norway|134.73|\n|           Singapore| 67.99|\n|           Australia| 76.52|\n|         Switzerland| 82.29|\n|             Belgium| 58.65|\n|             Croatia| 86.48|\n|         New Zealand| 49.49|\n|             Austria|  56.6|\n|             Denmark|105.65|\n|           Lithuania| 50.13|\n|      Czech Republic| 44.55|\n|United Arab Emirates|135.35|\n|             Hungary| 41.32|\n|               Qatar|120.69|\n|     North Macedonia| 64.23|\n+--------------------+------+\nonly showing top 20 rows\n\n"
     ]
    }
   ],
   "source": [
    "avg_speed.show()"
   ]
  },
  {
   "cell_type": "code",
   "execution_count": 0,
   "metadata": {
    "application/vnd.databricks.v1+cell": {
     "cellMetadata": {
      "byteLimit": 2048000,
      "rowLimit": 10000
     },
     "inputWidgets": {},
     "nuid": "8363dfbf-3948-4fd6-b605-c62a88a5d7d0",
     "showTitle": false,
     "tableResultSettingsMap": {},
     "title": ""
    }
   },
   "outputs": [
    {
     "output_type": "stream",
     "name": "stdout",
     "output_type": "stream",
     "text": [
      "Esquema de AVG_SPEED\n\nroot\n |-- country: string (nullable = true)\n |-- avg: double (nullable = true)\n\nEsquema de price_2022\n\nroot\n |-- country_code: string (nullable = true)\n |-- name: string (nullable = true)\n |-- continental_region: string (nullable = true)\n |-- no_of_internet_plans: integer (nullable = true)\n |-- average_price_of_1gb_usd: string (nullable = true)\n |-- cheapest_1gb_for_30_days_usd: string (nullable = true)\n |-- most_expensive_1gb_usd: string (nullable = true)\n |-- average_price_of_1gb_usd_at_the_start_of_2021: string (nullable = true)\n |-- average_price_of_1gb_usd__at_start_of_2020: string (nullable = true)\n\nEsquema de users\n\nroot\n |-- country_or_area: string (nullable = true)\n |-- subregion: string (nullable = true)\n |-- region: string (nullable = true)\n |-- internet_users: integer (nullable = true)\n |-- population: integer (nullable = true)\n\n"
     ]
    }
   ],
   "source": [
    "print(\"Esquema de AVG_SPEED\\n\")\n",
    "avg_speed.printSchema()\n",
    "print(\"Esquema de price_2022\\n\")\n",
    "price_2022.printSchema()\n",
    "print(\"Esquema de users\\n\")\n",
    "users.printSchema()"
   ]
  },
  {
   "cell_type": "code",
   "execution_count": 0,
   "metadata": {
    "application/vnd.databricks.v1+cell": {
     "cellMetadata": {
      "byteLimit": 2048000,
      "rowLimit": 10000
     },
     "inputWidgets": {},
     "nuid": "d1fa7a34-54f8-4e46-bd96-2e9d765bada0",
     "showTitle": false,
     "tableResultSettingsMap": {},
     "title": ""
    }
   },
   "outputs": [],
   "source": [
    "from pyspark.sql.functions import col, avg, min, max, count,desc,sum,asc"
   ]
  },
  {
   "cell_type": "code",
   "execution_count": 0,
   "metadata": {
    "application/vnd.databricks.v1+cell": {
     "cellMetadata": {
      "byteLimit": 2048000,
      "rowLimit": 10000
     },
     "inputWidgets": {},
     "nuid": "25c87ca9-1f60-4ab9-91fe-661f1f100a4b",
     "showTitle": false,
     "tableResultSettingsMap": {},
     "title": ""
    }
   },
   "outputs": [],
   "source": [
    "top_users_america=users.select(\n",
    "col('country_or_area').alias(\"Pais\"),\n",
    "col('region'),\n",
    "col('subregion'),\n",
    "col('internet_users').alias('usuarios_internet')\n",
    ").where(col('region')=='Americas').orderBy(desc('internet_users'))"
   ]
  },
  {
   "cell_type": "code",
   "execution_count": 0,
   "metadata": {
    "application/vnd.databricks.v1+cell": {
     "cellMetadata": {
      "byteLimit": 2048000,
      "rowLimit": 10000
     },
     "inputWidgets": {},
     "nuid": "35005600-9074-407f-9989-de24d59e7f09",
     "showTitle": false,
     "tableResultSettingsMap": {},
     "title": ""
    }
   },
   "outputs": [],
   "source": [
    "top_users_regiones=users.groupBy('region').agg(\n",
    "  sum(col('internet_users')).alias('usuarios_internet')\n",
    ").orderBy(desc('usuarios_internet'))"
   ]
  },
  {
   "cell_type": "code",
   "execution_count": 0,
   "metadata": {
    "application/vnd.databricks.v1+cell": {
     "cellMetadata": {
      "byteLimit": 2048000,
      "rowLimit": 10000
     },
     "inputWidgets": {},
     "nuid": "2523f609-6b86-44b8-8449-a150ba1bf7bd",
     "showTitle": false,
     "tableResultSettingsMap": {},
     "title": ""
    }
   },
   "outputs": [],
   "source": [
    "window_spec = Window.partitionBy(\"region\").orderBy(desc(\"internet_users\")) ## crea  ventanas que ordena por internet use y resetea cuando cambia de region\n",
    "user_rank_po_region = users.withColumn(\"rank\", row_number().over(window_spec))## creo una columna que hace un ranking reseteando por la ventana (por regiones) \n"
   ]
  },
  {
   "cell_type": "code",
   "execution_count": 0,
   "metadata": {
    "application/vnd.databricks.v1+cell": {
     "cellMetadata": {
      "byteLimit": 2048000,
      "rowLimit": 10000
     },
     "inputWidgets": {},
     "nuid": "db9f2ffa-61d2-4c91-bbd2-523a207932cc",
     "showTitle": false,
     "tableResultSettingsMap": {},
     "title": ""
    }
   },
   "outputs": [],
   "source": [
    "users_max_porregion_pais = user_rank_po_region.where(col(\"rank\")==1).drop(\"rank\")##toma el rank 1 "
   ]
  },
  {
   "cell_type": "code",
   "execution_count": 0,
   "metadata": {
    "application/vnd.databricks.v1+cell": {
     "cellMetadata": {
      "byteLimit": 2048000,
      "rowLimit": 10000
     },
     "inputWidgets": {},
     "nuid": "c052498c-d34b-4e16-94fe-caffdd5d5b59",
     "showTitle": false,
     "tableResultSettingsMap": {},
     "title": ""
    }
   },
   "outputs": [],
   "source": [
    "users_max_porregion_pais_reparticionado=users_max_porregion_pais.repartition(3)"
   ]
  },
  {
   "cell_type": "code",
   "execution_count": 0,
   "metadata": {
    "application/vnd.databricks.v1+cell": {
     "cellMetadata": {
      "byteLimit": 2048000,
      "rowLimit": 10000
     },
     "inputWidgets": {},
     "nuid": "3a83a62f-c85a-4c74-9aa4-289c32518c5a",
     "showTitle": false,
     "tableResultSettingsMap": {},
     "title": ""
    }
   },
   "outputs": [],
   "source": [
    "users_max_porregion_pais_reparticionado.write.partitionBy(\"region\").format(\"avro\").mode(\"overwrite\").save(\"/FileStore/ProyectoFinal/salida\")"
   ]
  },
  {
   "cell_type": "code",
   "execution_count": 0,
   "metadata": {
    "application/vnd.databricks.v1+cell": {
     "cellMetadata": {
      "byteLimit": 2048000,
      "rowLimit": 10000
     },
     "inputWidgets": {},
     "nuid": "072b4815-eecf-4413-9dbb-1a1f89e718dd",
     "showTitle": false,
     "tableResultSettingsMap": {},
     "title": ""
    }
   },
   "outputs": [],
   "source": [
    "users_max_porregion_pais_reparticionado \\\n",
    "    .write \\\n",
    "    .partitionBy(\"region\") \\\n",
    "    .format(\"avro\") \\\n",
    "    .mode(\"overwrite\") \\\n",
    "    .save(\"/FileStore/ProyectoFinal/salida\")##el slash periite hacer saltos de linea en el codigo ... interesante"
   ]
  },
  {
   "cell_type": "code",
   "execution_count": 0,
   "metadata": {
    "application/vnd.databricks.v1+cell": {
     "cellMetadata": {
      "byteLimit": 2048000,
      "rowLimit": 10000
     },
     "inputWidgets": {},
     "nuid": "2ec1ef0b-da93-45ed-9a29-398981b9f7ee",
     "showTitle": false,
     "tableResultSettingsMap": {},
     "title": ""
    }
   },
   "outputs": [
    {
     "output_type": "stream",
     "name": "stdout",
     "output_type": "stream",
     "text": [
      "Out[18]: [FileInfo(path='dbfs:/FileStore/ProyectoFinal/salida/_SUCCESS', name='_SUCCESS', size=0, modificationTime=1731287444000),\n FileInfo(path='dbfs:/FileStore/ProyectoFinal/salida/_committed_863615927311684940', name='_committed_863615927311684940', size=35, modificationTime=1731281137000),\n FileInfo(path='dbfs:/FileStore/ProyectoFinal/salida/region=Africa/', name='region=Africa/', size=0, modificationTime=0),\n FileInfo(path='dbfs:/FileStore/ProyectoFinal/salida/region=Americas/', name='region=Americas/', size=0, modificationTime=0),\n FileInfo(path='dbfs:/FileStore/ProyectoFinal/salida/region=Asia/', name='region=Asia/', size=0, modificationTime=0),\n FileInfo(path='dbfs:/FileStore/ProyectoFinal/salida/region=Europe/', name='region=Europe/', size=0, modificationTime=0),\n FileInfo(path='dbfs:/FileStore/ProyectoFinal/salida/region=Oceania/', name='region=Oceania/', size=0, modificationTime=0)]"
     ]
    }
   ],
   "source": [
    "dbutils.fs.ls(\"/FileStore/ProyectoFinal/salida\")"
   ]
  },
  {
   "cell_type": "code",
   "execution_count": 0,
   "metadata": {
    "application/vnd.databricks.v1+cell": {
     "cellMetadata": {
      "byteLimit": 2048000,
      "rowLimit": 10000
     },
     "inputWidgets": {},
     "nuid": "cbf8d9ba-644f-47bc-8412-3869d86be3d4",
     "showTitle": false,
     "tableResultSettingsMap": {},
     "title": ""
    }
   },
   "outputs": [
    {
     "output_type": "stream",
     "name": "stdout",
     "output_type": "stream",
     "text": [
      "+--------------------+------+--------------------+---------------+------+--------------+----------+\n|             country|   avg|     country_or_area|      subregion|region|internet_users|population|\n+--------------------+------+--------------------+---------------+------+--------------+----------+\n|United Arab Emirates|135.35|United Arab Emirates|   Western Asia|  Asia|       8913217|   9630959|\n|              Norway|134.73|              Norway|Northern Europe|Europe|       5120225|   5337962|\n|               Qatar|120.69|               Qatar|   Western Asia|  Asia|       2532059|   2781682|\n|         South Korea|117.95|         South Korea|   Eastern Asia|  Asia|      49421084|  51171706|\n|         Netherlands|108.33|         Netherlands| Western Europe|Europe|      15877494|  17059560|\n|             Denmark|105.65|             Denmark|Northern Europe|Europe|       5407278|   5752126|\n|        Saudi Arabia|102.79|        Saudi Arabia|   Western Asia|  Asia|      27048861|  33702756|\n|              Kuwait| 96.23|              Kuwait|   Western Asia|  Asia|       4053797|   4137312|\n|            Bulgaria| 87.51|            Bulgaria| Eastern Europe|Europe|       4492326|   7051608|\n|             Croatia| 86.48|             Croatia|Southern Europe|Europe|       2811056|   4156405|\n+--------------------+------+--------------------+---------------+------+--------------+----------+\nonly showing top 10 rows\n\n"
     ]
    }
   ],
   "source": [
    "avg_speed.join(users,col('country_or_area')==col('country')).select(\n",
    "  col('*')\n",
    "  ).orderBy(desc('avg')).show(10)\n",
    "         "
   ]
  },
  {
   "cell_type": "code",
   "execution_count": 0,
   "metadata": {
    "application/vnd.databricks.v1+cell": {
     "cellMetadata": {
      "byteLimit": 2048000,
      "rowLimit": 10000
     },
     "inputWidgets": {},
     "nuid": "b88e4ef2-495a-42c7-8706-2d74965a587e",
     "showTitle": false,
     "tableResultSettingsMap": {},
     "title": ""
    }
   },
   "outputs": [
    {
     "output_type": "stream",
     "name": "stdout",
     "output_type": "stream",
     "text": [
      "+---------------+------------------+--------+--------------+----------+\n|country_or_area|         subregion|  region|internet_users|population|\n+---------------+------------------+--------+--------------+----------+\n|          China|      Eastern Asia|    Asia|    1010740000|1427647786|\n|          India|     Southern Asia|    Asia|     833710000|1352642280|\n|  United States|  Northern America|Americas|     312320000| 327096265|\n|      Indonesia|South-eastern Asia|    Asia|     196000000| 267670543|\n|         Brazil|     South America|Americas|     160010801| 209469323|\n|        Nigeria|    Western Africa|  Africa|     136203231| 195874685|\n|     Bangladesh|     Southern Asia|    Asia|     129180000| 166303498|\n|         Russia|    Eastern Europe|  Europe|     124000000| 145734038|\n|       Pakistan|     Southern Asia|    Asia|     118800000| 213756286|\n|          Japan|      Eastern Asia|    Asia|     117400000| 127202192|\n|         Mexico|  Northern America|Americas|      92010000| 128972439|\n|           Iran|      Western Asia|    Asia|      78086663|  81800188|\n|        Germany|    Western Europe|  Europe|      77794405|  83124418|\n|    Philippines|South-eastern Asia|    Asia|      73003313| 106651394|\n|         Turkey|   Southern Europe|  Europe|      69945905|  82340088|\n|        Vietnam|South-eastern Asia|    Asia|      68172134|  95545962|\n| United Kingdom|   Northern Europe|  Europe|      65001016|  67141684|\n|         France|    Western Europe|  Europe|      59470000|  64990511|\n|          Egypt|   Northern Africa|  Africa|      54740141|  98423598|\n|    South Korea|      Eastern Asia|    Asia|      49421084|  51171706|\n+---------------+------------------+--------+--------------+----------+\nonly showing top 20 rows\n\n"
     ]
    }
   ],
   "source": [
    "users.show()"
   ]
  },
  {
   "cell_type": "code",
   "execution_count": 0,
   "metadata": {
    "application/vnd.databricks.v1+cell": {
     "cellMetadata": {
      "byteLimit": 2048000,
      "rowLimit": 10000
     },
     "inputWidgets": {},
     "nuid": "daa36ed7-5c4c-459b-a697-893cf4434dab",
     "showTitle": false,
     "tableResultSettingsMap": {},
     "title": ""
    }
   },
   "outputs": [],
   "source": [
    "columns_to_transform = [\n",
    "    \"average_price_of_1gb_usd\", \n",
    "    \"cheapest_1gb_for_30_days_usd\", \n",
    "    \"average_price_of_1gb_usd_at_the_start_of_2021\",\n",
    "    \"average_price_of_1gb_usd__at_start_of_2020\",\n",
    "    \"most_expensive_1gb_usd\"\n",
    "]"
   ]
  },
  {
   "cell_type": "code",
   "execution_count": 0,
   "metadata": {
    "application/vnd.databricks.v1+cell": {
     "cellMetadata": {
      "byteLimit": 2048000,
      "rowLimit": 10000
     },
     "inputWidgets": {},
     "nuid": "3ff5afc4-2f8f-4347-b0a7-131bec461118",
     "showTitle": false,
     "tableResultSettingsMap": {},
     "title": ""
    }
   },
   "outputs": [],
   "source": [
    "for columna in columns_to_transform:\n",
    "  price_2022 = price_2022.withColumn(columna,regexp_replace(col(columna), r\"\\$\", \"\").cast(DoubleType()))"
   ]
  },
  {
   "cell_type": "code",
   "execution_count": 0,
   "metadata": {
    "application/vnd.databricks.v1+cell": {
     "cellMetadata": {
      "byteLimit": 2048000,
      "rowLimit": 10000
     },
     "inputWidgets": {},
     "nuid": "11d6839a-9770-4ea7-b0ef-f94c4b3c624e",
     "showTitle": false,
     "tableResultSettingsMap": {},
     "title": ""
    }
   },
   "outputs": [
    {
     "output_type": "stream",
     "name": "stdout",
     "output_type": "stream",
     "text": [
      "root\n |-- country_code: string (nullable = true)\n |-- name: string (nullable = true)\n |-- continental_region: string (nullable = true)\n |-- no_of_internet_plans: integer (nullable = true)\n |-- average_price_of_1gb_usd: double (nullable = true)\n |-- cheapest_1gb_for_30_days_usd: double (nullable = true)\n |-- most_expensive_1gb_usd: double (nullable = true)\n |-- average_price_of_1gb_usd_at_the_start_of_2021: double (nullable = true)\n |-- average_price_of_1gb_usd__at_start_of_2020: double (nullable = true)\n\n"
     ]
    }
   ],
   "source": [
    "price_2022.printSchema()"
   ]
  },
  {
   "cell_type": "code",
   "execution_count": 0,
   "metadata": {
    "application/vnd.databricks.v1+cell": {
     "cellMetadata": {
      "byteLimit": 2048000,
      "rowLimit": 10000
     },
     "inputWidgets": {},
     "nuid": "be6d78c6-2b00-43df-90b0-bc1cd95cc6a3",
     "showTitle": false,
     "tableResultSettingsMap": {},
     "title": ""
    }
   },
   "outputs": [
    {
     "output_type": "stream",
     "name": "stdout",
     "output_type": "stream",
     "text": [
      "+--------+---------------------------+-----------------+\n|  region|avg(avg_price_1gb_internet)|clasificar_region|\n+--------+---------------------------+-----------------+\n|  Africa|          5.692040816326531|         region_a|\n|Americas|          6.772499999999998|         region_a|\n|    Asia|         2.9502325581395343|         region_a|\n|  Europe|          3.050227272727273|         region_e|\n| Oceania|          7.677142857142857|            other|\n+--------+---------------------------+-----------------+\n\n"
     ]
    }
   ],
   "source": [
    "price_2022.join(users,col(\"country_or_area\")==col(\"name\")).select(\n",
    "  col(\"name\").alias(\"country\"),\n",
    "  col(\"average_price_of_1gb_usd_at_the_start_of_2021\").alias(\"avg_price_1gb_internet\"),\n",
    "  col(\"subregion\"),\n",
    "  col(\"internet_users\"),\n",
    "  col(\"region\")\n",
    ").groupBy(col(\"region\")).agg(\n",
    "  avg(\"avg_price_1gb_internet\")\n",
    ").withColumn(\"clasificar_region\",when(col(\"region\").startswith(\"A\"),\"region_a\")\n",
    "                                .when(col(\"region\").startswith(\"E\"),\"region_e\")\n",
    "                                .otherwise(\"other\")).orderBy(asc(col(\"region\"))).show()"
   ]
  },
  {
   "cell_type": "code",
   "execution_count": 0,
   "metadata": {
    "application/vnd.databricks.v1+cell": {
     "cellMetadata": {
      "byteLimit": 2048000,
      "rowLimit": 10000
     },
     "inputWidgets": {},
     "nuid": "619ae441-e5be-46cb-857f-8e8dce6a96b9",
     "showTitle": false,
     "tableResultSettingsMap": {},
     "title": ""
    }
   },
   "outputs": [
    {
     "output_type": "display_data",
     "data": {
      "text/plain": [
       "\u001B[0;31m---------------------------------------------------------------------------\u001B[0m\n",
       "\u001B[0;31mTypeError\u001B[0m                                 Traceback (most recent call last)\n",
       "\u001B[0;32m<command-2993261745819362>\u001B[0m in \u001B[0;36m<module>\u001B[0;34m\u001B[0m\n",
       "\u001B[0;32m----> 1\u001B[0;31m \u001B[0musers\u001B[0m\u001B[0;34m.\u001B[0m\u001B[0mna\u001B[0m\u001B[0;34m.\u001B[0m\u001B[0mfill\u001B[0m\u001B[0;34m(\u001B[0m\u001B[0mcol\u001B[0m\u001B[0;34m(\u001B[0m\u001B[0;34m\"average_price_of_1gb_usd\"\u001B[0m\u001B[0;34m)\u001B[0m\u001B[0;34m,\u001B[0m\u001B[0;36m0\u001B[0m\u001B[0;34m)\u001B[0m\u001B[0;34m.\u001B[0m\u001B[0mshow\u001B[0m\u001B[0;34m(\u001B[0m\u001B[0;34m)\u001B[0m\u001B[0;34m\u001B[0m\u001B[0;34m\u001B[0m\u001B[0m\n",
       "\u001B[0m\n",
       "\u001B[0;32m/databricks/spark/python/pyspark/sql/dataframe.py\u001B[0m in \u001B[0;36mfill\u001B[0;34m(self, value, subset)\u001B[0m\n",
       "\u001B[1;32m   2996\u001B[0m \u001B[0;34m\u001B[0m\u001B[0m\n",
       "\u001B[1;32m   2997\u001B[0m     \u001B[0;32mdef\u001B[0m \u001B[0mfill\u001B[0m\u001B[0;34m(\u001B[0m\u001B[0mself\u001B[0m\u001B[0;34m,\u001B[0m \u001B[0mvalue\u001B[0m\u001B[0;34m,\u001B[0m \u001B[0msubset\u001B[0m\u001B[0;34m=\u001B[0m\u001B[0;32mNone\u001B[0m\u001B[0;34m)\u001B[0m\u001B[0;34m:\u001B[0m\u001B[0;34m\u001B[0m\u001B[0;34m\u001B[0m\u001B[0m\n",
       "\u001B[0;32m-> 2998\u001B[0;31m         \u001B[0;32mreturn\u001B[0m \u001B[0mself\u001B[0m\u001B[0;34m.\u001B[0m\u001B[0mdf\u001B[0m\u001B[0;34m.\u001B[0m\u001B[0mfillna\u001B[0m\u001B[0;34m(\u001B[0m\u001B[0mvalue\u001B[0m\u001B[0;34m=\u001B[0m\u001B[0mvalue\u001B[0m\u001B[0;34m,\u001B[0m \u001B[0msubset\u001B[0m\u001B[0;34m=\u001B[0m\u001B[0msubset\u001B[0m\u001B[0;34m)\u001B[0m\u001B[0;34m\u001B[0m\u001B[0;34m\u001B[0m\u001B[0m\n",
       "\u001B[0m\u001B[1;32m   2999\u001B[0m \u001B[0;34m\u001B[0m\u001B[0m\n",
       "\u001B[1;32m   3000\u001B[0m     \u001B[0mfill\u001B[0m\u001B[0;34m.\u001B[0m\u001B[0m__doc__\u001B[0m \u001B[0;34m=\u001B[0m \u001B[0mDataFrame\u001B[0m\u001B[0;34m.\u001B[0m\u001B[0mfillna\u001B[0m\u001B[0;34m.\u001B[0m\u001B[0m__doc__\u001B[0m\u001B[0;34m\u001B[0m\u001B[0;34m\u001B[0m\u001B[0m\n",
       "\n",
       "\u001B[0;32m/databricks/spark/python/pyspark/sql/dataframe.py\u001B[0m in \u001B[0;36mfillna\u001B[0;34m(self, value, subset)\u001B[0m\n",
       "\u001B[1;32m   2227\u001B[0m         \"\"\"\n",
       "\u001B[1;32m   2228\u001B[0m         \u001B[0;32mif\u001B[0m \u001B[0;32mnot\u001B[0m \u001B[0misinstance\u001B[0m\u001B[0;34m(\u001B[0m\u001B[0mvalue\u001B[0m\u001B[0;34m,\u001B[0m \u001B[0;34m(\u001B[0m\u001B[0mfloat\u001B[0m\u001B[0;34m,\u001B[0m \u001B[0mint\u001B[0m\u001B[0;34m,\u001B[0m \u001B[0mstr\u001B[0m\u001B[0;34m,\u001B[0m \u001B[0mbool\u001B[0m\u001B[0;34m,\u001B[0m \u001B[0mdict\u001B[0m\u001B[0;34m)\u001B[0m\u001B[0;34m)\u001B[0m\u001B[0;34m:\u001B[0m\u001B[0;34m\u001B[0m\u001B[0;34m\u001B[0m\u001B[0m\n",
       "\u001B[0;32m-> 2229\u001B[0;31m             \u001B[0;32mraise\u001B[0m \u001B[0mTypeError\u001B[0m\u001B[0;34m(\u001B[0m\u001B[0;34m\"value should be a float, int, string, bool or dict\"\u001B[0m\u001B[0;34m)\u001B[0m\u001B[0;34m\u001B[0m\u001B[0;34m\u001B[0m\u001B[0m\n",
       "\u001B[0m\u001B[1;32m   2230\u001B[0m \u001B[0;34m\u001B[0m\u001B[0m\n",
       "\u001B[1;32m   2231\u001B[0m         \u001B[0;31m# Note that bool validates isinstance(int), but we don't want to\u001B[0m\u001B[0;34m\u001B[0m\u001B[0;34m\u001B[0m\u001B[0;34m\u001B[0m\u001B[0m\n",
       "\n",
       "\u001B[0;31mTypeError\u001B[0m: value should be a float, int, string, bool or dict"
      ]
     },
     "metadata": {
      "application/vnd.databricks.v1+output": {
       "arguments": {},
       "data": "\u001B[0;31m---------------------------------------------------------------------------\u001B[0m\n\u001B[0;31mTypeError\u001B[0m                                 Traceback (most recent call last)\n\u001B[0;32m<command-2993261745819362>\u001B[0m in \u001B[0;36m<module>\u001B[0;34m\u001B[0m\n\u001B[0;32m----> 1\u001B[0;31m \u001B[0musers\u001B[0m\u001B[0;34m.\u001B[0m\u001B[0mna\u001B[0m\u001B[0;34m.\u001B[0m\u001B[0mfill\u001B[0m\u001B[0;34m(\u001B[0m\u001B[0mcol\u001B[0m\u001B[0;34m(\u001B[0m\u001B[0;34m\"average_price_of_1gb_usd\"\u001B[0m\u001B[0;34m)\u001B[0m\u001B[0;34m,\u001B[0m\u001B[0;36m0\u001B[0m\u001B[0;34m)\u001B[0m\u001B[0;34m.\u001B[0m\u001B[0mshow\u001B[0m\u001B[0;34m(\u001B[0m\u001B[0;34m)\u001B[0m\u001B[0;34m\u001B[0m\u001B[0;34m\u001B[0m\u001B[0m\n\u001B[0m\n\u001B[0;32m/databricks/spark/python/pyspark/sql/dataframe.py\u001B[0m in \u001B[0;36mfill\u001B[0;34m(self, value, subset)\u001B[0m\n\u001B[1;32m   2996\u001B[0m \u001B[0;34m\u001B[0m\u001B[0m\n\u001B[1;32m   2997\u001B[0m     \u001B[0;32mdef\u001B[0m \u001B[0mfill\u001B[0m\u001B[0;34m(\u001B[0m\u001B[0mself\u001B[0m\u001B[0;34m,\u001B[0m \u001B[0mvalue\u001B[0m\u001B[0;34m,\u001B[0m \u001B[0msubset\u001B[0m\u001B[0;34m=\u001B[0m\u001B[0;32mNone\u001B[0m\u001B[0;34m)\u001B[0m\u001B[0;34m:\u001B[0m\u001B[0;34m\u001B[0m\u001B[0;34m\u001B[0m\u001B[0m\n\u001B[0;32m-> 2998\u001B[0;31m         \u001B[0;32mreturn\u001B[0m \u001B[0mself\u001B[0m\u001B[0;34m.\u001B[0m\u001B[0mdf\u001B[0m\u001B[0;34m.\u001B[0m\u001B[0mfillna\u001B[0m\u001B[0;34m(\u001B[0m\u001B[0mvalue\u001B[0m\u001B[0;34m=\u001B[0m\u001B[0mvalue\u001B[0m\u001B[0;34m,\u001B[0m \u001B[0msubset\u001B[0m\u001B[0;34m=\u001B[0m\u001B[0msubset\u001B[0m\u001B[0;34m)\u001B[0m\u001B[0;34m\u001B[0m\u001B[0;34m\u001B[0m\u001B[0m\n\u001B[0m\u001B[1;32m   2999\u001B[0m \u001B[0;34m\u001B[0m\u001B[0m\n\u001B[1;32m   3000\u001B[0m     \u001B[0mfill\u001B[0m\u001B[0;34m.\u001B[0m\u001B[0m__doc__\u001B[0m \u001B[0;34m=\u001B[0m \u001B[0mDataFrame\u001B[0m\u001B[0;34m.\u001B[0m\u001B[0mfillna\u001B[0m\u001B[0;34m.\u001B[0m\u001B[0m__doc__\u001B[0m\u001B[0;34m\u001B[0m\u001B[0;34m\u001B[0m\u001B[0m\n\n\u001B[0;32m/databricks/spark/python/pyspark/sql/dataframe.py\u001B[0m in \u001B[0;36mfillna\u001B[0;34m(self, value, subset)\u001B[0m\n\u001B[1;32m   2227\u001B[0m         \"\"\"\n\u001B[1;32m   2228\u001B[0m         \u001B[0;32mif\u001B[0m \u001B[0;32mnot\u001B[0m \u001B[0misinstance\u001B[0m\u001B[0;34m(\u001B[0m\u001B[0mvalue\u001B[0m\u001B[0;34m,\u001B[0m \u001B[0;34m(\u001B[0m\u001B[0mfloat\u001B[0m\u001B[0;34m,\u001B[0m \u001B[0mint\u001B[0m\u001B[0;34m,\u001B[0m \u001B[0mstr\u001B[0m\u001B[0;34m,\u001B[0m \u001B[0mbool\u001B[0m\u001B[0;34m,\u001B[0m \u001B[0mdict\u001B[0m\u001B[0;34m)\u001B[0m\u001B[0;34m)\u001B[0m\u001B[0;34m:\u001B[0m\u001B[0;34m\u001B[0m\u001B[0;34m\u001B[0m\u001B[0m\n\u001B[0;32m-> 2229\u001B[0;31m             \u001B[0;32mraise\u001B[0m \u001B[0mTypeError\u001B[0m\u001B[0;34m(\u001B[0m\u001B[0;34m\"value should be a float, int, string, bool or dict\"\u001B[0m\u001B[0;34m)\u001B[0m\u001B[0;34m\u001B[0m\u001B[0;34m\u001B[0m\u001B[0m\n\u001B[0m\u001B[1;32m   2230\u001B[0m \u001B[0;34m\u001B[0m\u001B[0m\n\u001B[1;32m   2231\u001B[0m         \u001B[0;31m# Note that bool validates isinstance(int), but we don't want to\u001B[0m\u001B[0;34m\u001B[0m\u001B[0;34m\u001B[0m\u001B[0;34m\u001B[0m\u001B[0m\n\n\u001B[0;31mTypeError\u001B[0m: value should be a float, int, string, bool or dict",
       "errorSummary": "<span class='ansi-red-fg'>TypeError</span>: value should be a float, int, string, bool or dict",
       "errorTraceType": "ansi",
       "metadata": {},
       "type": "ipynbError"
      }
     },
     "output_type": "display_data"
    }
   ],
   "source": []
  }
 ],
 "metadata": {
  "application/vnd.databricks.v1+notebook": {
   "dashboards": [],
   "environmentMetadata": null,
   "language": "python",
   "notebookMetadata": {
    "pythonIndentUnit": 2
   },
   "notebookName": "Caso_Practico_1",
   "widgets": {}
  }
 },
 "nbformat": 4,
 "nbformat_minor": 0
}
